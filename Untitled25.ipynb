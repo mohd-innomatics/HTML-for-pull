{
  "nbformat": 4,
  "nbformat_minor": 0,
  "metadata": {
    "colab": {
      "provenance": [],
      "authorship_tag": "ABX9TyPYgVCAHmotJ3pY5cbSFvum",
      "include_colab_link": true
    },
    "kernelspec": {
      "name": "python3",
      "display_name": "Python 3"
    },
    "language_info": {
      "name": "python"
    }
  },
  "cells": [
    {
      "cell_type": "markdown",
      "metadata": {
        "id": "view-in-github",
        "colab_type": "text"
      },
      "source": [
        "<a href=\"https://colab.research.google.com/github/roshangeoroy/HTML/blob/main/Untitled25.ipynb\" target=\"_parent\"><img src=\"https://colab.research.google.com/assets/colab-badge.svg\" alt=\"Open In Colab\"/></a>"
      ]
    },
    {
      "cell_type": "code",
      "execution_count": 1,
      "metadata": {
        "id": "LQVKmersc2eQ"
      },
      "outputs": [],
      "source": [
        "import numpy as np\n",
        "import matplotlib.pyplot as plt"
      ]
    },
    {
      "cell_type": "markdown",
      "source": [
        "1) R=2km"
      ],
      "metadata": {
        "id": "P74AGTMZfS3r"
      }
    },
    {
      "cell_type": "code",
      "source": [
        "R=2\n",
        "#Generating values of D\n",
        "d=[]\n",
        "for i in range(1,100):\n",
        "    for j in range(1,100):\n",
        "        # calculate N\n",
        "        N = i*i + j*j + i*j\n",
        "        D=np.sqrt(3*N) * R\n",
        "        if D not in d:\n",
        "          if(D<100):\n",
        "            d.append(D)\n",
        "d=np.array(d)\n",
        "d=np.sort(d)"
      ],
      "metadata": {
        "id": "wDHAdUQRdAup"
      },
      "execution_count": 65,
      "outputs": []
    },
    {
      "cell_type": "code",
      "source": [
        "print(\"All possible values of D less than 100 are : \",d)"
      ],
      "metadata": {
        "colab": {
          "base_uri": "https://localhost:8080/",
          "height": 0
        },
        "id": "5u4ZpSwuetTM",
        "outputId": "e3005470-58ab-4509-ff79-9b8abc630cff"
      },
      "execution_count": 66,
      "outputs": [
        {
          "output_type": "stream",
          "name": "stdout",
          "text": [
            "All possible values of D less than 100 are :  [ 6.          9.16515139 12.         12.489996   15.09966887 15.87450787\n",
            " 18.         18.33030278 19.28730152 21.07130751 21.63330765 22.71563338\n",
            " 24.         24.24871131 24.97999199 26.15339366 27.05549852 27.49545417\n",
            " 28.35489376 29.59729717 30.         30.19933774 30.78960864 31.74901573\n",
            " 33.04542328 33.40658618 34.11744422 35.15679166 36.         36.16628264\n",
            " 36.49657518 36.66060556 37.46998799 38.57460304 39.03844259 39.34463115\n",
            " 39.94996871 40.84115571 42.         42.14261501 42.56759331 43.26661531\n",
            " 43.40506883 44.22668877 45.033321   45.29900661 45.43126677 45.82575695\n",
            " 46.60472079 46.86149806 47.6235236  48.         48.12483766 48.49742261\n",
            " 48.86716689 49.11211663 49.95998399 50.3189825  51.02940329 51.26402247\n",
            " 51.73006863 52.30678732 52.42136969 53.3291665  53.77731864 54.\n",
            " 54.11099703 54.44263036 54.99090834 55.74943946 56.70978752 57.02630972\n",
            " 57.23635209 57.65414122 57.86190457 58.27520914 59.09314681 59.19459435\n",
            " 60.         60.09991681 60.39867548 60.69596362 60.89334939 61.28621378\n",
            " 61.57921727 62.44997998 62.64183905 63.02380503 63.21392252 63.49803147\n",
            " 63.59245238 64.15605973 64.71475875 64.89992296 65.81793069 66.\n",
            " 66.09084657 66.36264009 66.81317235 66.90291473 67.4388612  67.61656602\n",
            " 68.14690015 68.23488844 69.02173571 69.19537557 69.5413546  70.05711955\n",
            " 70.31358332 70.73895674 71.07742258 71.58212067 72.         72.08328516\n",
            " 72.33256528 72.58098925 72.74613392 72.99315036 73.32121112 73.72923436\n",
            " 74.05403433 74.53858061 74.93997598 75.01999733 75.17978452 75.49834435\n",
            " 75.97367965 76.44605941 76.60287201 77.14920609 77.38216849 78.\n",
            " 78.07688518 78.3070878  78.46018098 78.68926229 79.22120928 79.37253933\n",
            " 79.89993742 80.57294831 80.72174428 81.0185164  81.16649555 81.46164742\n",
            " 81.68231143 81.90238092 82.48636251 82.77680835 83.21057625 83.35466394\n",
            " 84.         84.07139823 84.28523002 84.64041588 84.92349498 85.06468127\n",
            " 85.13518662 85.34635317 85.76712657 86.18584571 86.53323061 86.81013766\n",
            " 87.01723967 87.15503428 87.42997198 87.84076502 88.38551918 88.45337755\n",
            " 88.79189152 89.06177631 89.59910714 89.86656775 90.         90.06664199\n",
            " 90.26627277 90.59801322 90.7964757  90.86253353 91.0604195  91.6515139\n",
            " 91.84770003 92.23882046 92.36882591 93.01612763 93.14504818 93.20944158\n",
            " 93.40235543 93.72299611 93.7869927  94.17005894 94.29740187 94.93155429\n",
            " 95.2470472  95.31002046 95.68698971 96.         96.06247967 96.24967532\n",
            " 96.43650761 96.56086164 96.99484522 97.18024491 97.54998719 97.73433378\n",
            " 98.22423326 98.65089964 98.7724658  99.01515036 99.13626985 99.37806599\n",
            " 99.73966112 99.85990186 99.91996797]\n"
          ]
        }
      ]
    },
    {
      "cell_type": "markdown",
      "source": [
        "Calculating SIR using formula ((D/R)**n)/6"
      ],
      "metadata": {
        "id": "ESnpSHjgkxAR"
      }
    },
    {
      "cell_type": "code",
      "source": [
        "R=2"
      ],
      "metadata": {
        "id": "mrZkWenKoDsv"
      },
      "execution_count": 67,
      "outputs": []
    },
    {
      "cell_type": "code",
      "source": [
        "n1=2\n",
        "n2=3\n",
        "n3=4\n",
        "si2=[]\n",
        "si3=[]\n",
        "si4=[]\n",
        "for i in d:\n",
        "  s1= 10*np.log10(((i/R)**n1)/6)\n",
        "  si2.append(s1)\n",
        "  s2= 10*np.log10(((i/R)**n2)/6)\n",
        "  si3.append(s2)\n",
        "  s3= 10*np.log10(((i/R)**n3)/6)\n",
        "  si4.append(s3)\n",
        "plt.plot(d,si2,label='n=2')\n",
        "plt.plot(d,si3,label='n=3')\n",
        "plt.plot(d,si4,label='n=4')\n",
        "plt.title('R=2km')\n",
        "plt.xlabel('Distance D in km');\n",
        "plt.ylabel('SIR dB');\n",
        "plt.legend();"
      ],
      "metadata": {
        "colab": {
          "base_uri": "https://localhost:8080/",
          "height": 295
        },
        "id": "OtR5tY24ithZ",
        "outputId": "55c7e859-40e3-42f3-d506-5f86c35e11c9"
      },
      "execution_count": 68,
      "outputs": [
        {
          "output_type": "display_data",
          "data": {
            "text/plain": [
              "<Figure size 432x288 with 1 Axes>"
            ],
            "image/png": "[encoded data removed]"
          },
          "metadata": {
            "needs_background": "light"
          }
        }
      ]
    },
    {
      "cell_type": "markdown",
      "source": [
        "2) R= 5km"
      ],
      "metadata": {
        "id": "M5EREDv9pfDQ"
      }
    },
    {
      "cell_type": "code",
      "source": [
        "R=5\n",
        "#Generating values of D\n",
        "d=[]\n",
        "for i in range(1,100):\n",
        "    for j in range(1,100):\n",
        "        # calculate N\n",
        "        N = i*i + j*j + i*j\n",
        "        D=np.sqrt(3*N) * R\n",
        "        if D not in d:\n",
        "          if(D<100):\n",
        "            d.append(D)\n",
        "d=np.array(d)\n",
        "d=np.sort(d)\n",
        "print(\"All possible values of D less than 100 are : \",d)"
      ],
      "metadata": {
        "colab": {
          "base_uri": "https://localhost:8080/",
          "height": 0
        },
        "id": "cYvrrb7hpOv3",
        "outputId": "1a564f55-8276-452f-e925-67d40558eb9e"
      },
      "execution_count": 78,
      "outputs": [
        {
          "output_type": "stream",
          "name": "stdout",
          "text": [
            "All possible values of D less than 100 are :  [15.         22.91287847 30.         31.22498999 37.74917218 39.68626967\n",
            " 45.         45.82575695 48.2182538  52.67826876 54.08326913 56.78908346\n",
            " 60.         60.62177826 62.44997998 65.38348415 67.63874629 68.73863542\n",
            " 70.88723439 73.99324293 75.         75.49834435 76.97402159 79.37253933\n",
            " 82.61355821 83.51646544 85.29361055 87.89197916 90.         90.4157066\n",
            " 91.24143795 91.6515139  93.67496998 96.43650761 97.59610648 98.36157786\n",
            " 99.87492178]\n"
          ]
        }
      ]
    },
    {
      "cell_type": "code",
      "source": [
        "n1=2\n",
        "n2=3\n",
        "n3=4\n",
        "si2=[]\n",
        "si3=[]\n",
        "si4=[]\n",
        "for i in d:\n",
        "  s1= 10*np.log10(((i/R)**n1)/6)\n",
        "  si2.append(s1)\n",
        "  s2= 10*np.log10(((i/R)**n2)/6)\n",
        "  si3.append(s2)\n",
        "  s3= 10*np.log10(((i/R)**n3)/6)\n",
        "  si4.append(s3)\n",
        "plt.plot(d,si2,label='n=2')\n",
        "plt.plot(d,si3,label='n=3')\n",
        "plt.plot(d,si4,label='n=4')\n",
        "plt.title('R=5km')\n",
        "plt.xlabel('Distance D in km');\n",
        "plt.ylabel('SIR dB');\n",
        "plt.legend();\n"
      ],
      "metadata": {
        "colab": {
          "base_uri": "https://localhost:8080/",
          "height": 295
        },
        "id": "byByNNiBpuKu",
        "outputId": "35f2872e-2654-4ed2-ab6a-49cd7bc21f03"
      },
      "execution_count": 79,
      "outputs": [
        {
          "output_type": "display_data",
          "data": {
            "text/plain": [
              "<Figure size 432x288 with 1 Axes>"
            ],
            "image/png": "[encoded data removed]"
          },
          "metadata": {
            "needs_background": "light"
          }
        }
      ]
    },
    {
      "cell_type": "markdown",
      "source": [
        "R=1km"
      ],
      "metadata": {
        "id": "JWp3DLD2qO-P"
      }
    },
    {
      "cell_type": "code",
      "source": [
        "R=1\n",
        "#Generating values of D\n",
        "d=[]\n",
        "for i in range(1,100):\n",
        "    for j in range(1,100):\n",
        "        # calculate N\n",
        "        N = i*i + j*j + i*j\n",
        "        D=np.sqrt(3*N) * R\n",
        "        if D not in d:\n",
        "          if(D<100):\n",
        "            d.append(D)\n",
        "d=np.array(d)\n",
        "d=np.sort(d)\n",
        "print(\"All possible values of D less than 100 are : \",d)"
      ],
      "metadata": {
        "colab": {
          "base_uri": "https://localhost:8080/",
          "height": 0
        },
        "id": "ARUarhhopwSs",
        "outputId": "57b70b9d-7d26-461b-ab59-e2fca226b592"
      },
      "execution_count": 80,
      "outputs": [
        {
          "output_type": "stream",
          "name": "stdout",
          "text": [
            "All possible values of D less than 100 are :  [ 3.          4.58257569  6.          6.244998    7.54983444  7.93725393\n",
            "  9.          9.16515139  9.64365076 10.53565375 10.81665383 11.35781669\n",
            " 12.         12.12435565 12.489996   13.07669683 13.52774926 13.74772708\n",
            " 14.17744688 14.79864859 15.         15.09966887 15.39480432 15.87450787\n",
            " 16.52271164 16.70329309 17.05872211 17.57839583 18.         18.08314132\n",
            " 18.24828759 18.33030278 18.734994   19.28730152 19.5192213  19.67231557\n",
            " 19.97498436 20.42057786 21.         21.07130751 21.28379665 21.63330765\n",
            " 21.70253441 22.11334439 22.5166605  22.64950331 22.71563338 22.91287847\n",
            " 23.3023604  23.43074903 23.8117618  24.         24.06241883 24.24871131\n",
            " 24.43358345 24.55605832 24.97999199 25.15949125 25.51470164 25.63201124\n",
            " 25.86503431 26.15339366 26.21068484 26.66458325 26.88865932 27.\n",
            " 27.05549852 27.22131518 27.49545417 27.87471973 28.35489376 28.51315486\n",
            " 28.61817604 28.82707061 28.93095228 29.13760457 29.54657341 29.59729717\n",
            " 30.         30.0499584  30.19933774 30.34798181 30.4466747  30.64310689\n",
            " 30.78960864 31.22498999 31.32091953 31.51190251 31.60696126 31.74901573\n",
            " 31.79622619 32.07802986 32.35737937 32.44996148 32.90896534 33.\n",
            " 33.04542328 33.18132005 33.40658618 33.45145737 33.7194306  33.80828301\n",
            " 34.07345007 34.11744422 34.51086785 34.59768778 34.7706773  35.02855978\n",
            " 35.15679166 35.36947837 35.53871129 35.79106034 36.         36.04164258\n",
            " 36.16628264 36.29049462 36.37306696 36.49657518 36.66060556 36.86461718\n",
            " 37.02701716 37.26929031 37.46998799 37.50999867 37.58989226 37.74917218\n",
            " 37.98683983 38.22302971 38.301436   38.57460304 38.69108424 39.\n",
            " 39.03844259 39.1535439  39.23009049 39.34463115 39.61060464 39.68626967\n",
            " 39.94996871 40.28647416 40.36087214 40.5092582  40.58324778 40.73082371\n",
            " 40.84115571 40.95119046 41.24318125 41.38840417 41.60528813 41.67733197\n",
            " 42.         42.03569911 42.14261501 42.32020794 42.46174749 42.53234064\n",
            " 42.56759331 42.67317659 42.88356328 43.09292285 43.26661531 43.40506883\n",
            " 43.50861984 43.57751714 43.71498599 43.92038251 44.19275959 44.22668877\n",
            " 44.39594576 44.53088816 44.79955357 44.93328388 45.         45.033321\n",
            " 45.13313639 45.29900661 45.39823785 45.43126677 45.53020975 45.82575695\n",
            " 45.92385001 46.11941023 46.18441296 46.50806382 46.57252409 46.60472079\n",
            " 46.70117772 46.86149806 46.89349635 47.08502947 47.14870094 47.46577715\n",
            " 47.6235236  47.65501023 47.84349486 48.         48.03123983 48.12483766\n",
            " 48.2182538  48.28043082 48.49742261 48.59012245 48.77499359 48.86716689\n",
            " 49.11211663 49.32544982 49.3862329  49.50757518 49.56813493 49.689033\n",
            " 49.86983056 49.92995093 49.95998399 50.10987927 50.3189825  50.40833264\n",
            " 50.46781152 50.58655948 50.76416059 51.         51.02940329 51.11751168\n",
            " 51.17616633 51.26402247 51.29327441 51.46843693 51.64300533 51.73006863\n",
            " 52.04805472 52.16320542 52.30678732 52.42136969 52.50714237 52.5642464\n",
            " 52.67826876 52.73518749 52.84884105 53.01886457 53.07541804 53.3291665\n",
            " 53.35728629 53.69357503 53.77731864 53.86093204 54.         54.02777064\n",
            " 54.08326913 54.11099703 54.24942396 54.44263036 54.52522352 54.5802162\n",
            " 54.69003566 54.74486277 54.99090834 55.01817881 55.07267925 55.34437641\n",
            " 55.50675635 55.56077753 55.66866264 55.74943946 55.83009941 56.04462508\n",
            " 56.15158057 56.20498199 56.3116329  56.47123161 56.63038054 56.70978752\n",
            " 56.78908346 57.         57.02630972 57.10516614 57.23635209 57.26255321\n",
            " 57.41950888 57.47173218 57.65414122 57.86190457 57.88782255 57.93962375\n",
            " 58.04308744 58.19793811 58.27520914 58.403767   58.50640991 58.55766389\n",
            " 58.6600375  58.81326381 58.96609195 59.01694672 59.09314681 59.19459435\n",
            " 59.27056605 59.57348403 59.77457654 59.92495307 60.         60.02499479\n",
            " 60.09991681 60.2245797  60.32412453 60.39867548 60.62177826 60.67124525\n",
            " 60.69596362 60.77005842 60.89334939 60.91797764 61.21274377 61.26173357\n",
            " 61.28621378 61.50609726 61.55485359 61.57921727 61.65225057 61.79805822\n",
            " 61.94352266 61.99193496 62.23343153 62.3778807  62.42595614 62.44997998\n",
            " 62.52199613 62.64183905 62.85698052 62.95236294 63.         63.02380503\n",
            " 63.09516622 63.21392252 63.23764702 63.37980751 63.49803147 63.59245238\n",
            " 63.66317617 63.85138996 64.08587988 64.13267498 64.15605973 64.36614017\n",
            " 64.50581369 64.55230437 64.64518544 64.71475875 64.78425735 64.89992296\n",
            " 64.96922348 65.10760324 65.19969325 65.3375849  65.38348415 65.47518614\n",
            " 65.7951366  65.81793069 65.88626564 66.         66.02272336 66.09084657\n",
            " 66.15889963 66.20422947 66.34003316 66.36264009 66.43041472 66.56575696\n",
            " 66.70082458 66.81317235 66.83561925 66.90291473 67.01492371 67.10439628\n",
            " 67.4388612  67.50555533 67.5499815  67.61656602 67.63874629 67.7716755\n",
            " 67.81592733 67.94850992 68.03675477 68.14690015 68.16890787 68.23488844\n",
            " 68.43244844 68.56383887 68.60757976 68.69497798 68.73863542 68.82586723\n",
            " 69.         69.02173571 69.0869018  69.19537557 69.21704992 69.34695379\n",
            " 69.47661477 69.5413546  69.73521349 69.7782201  69.8641539  69.90708119\n",
            " 70.05711955 70.16409338 70.29224708 70.31358332 70.37755324 70.50531895\n",
            " 70.5478561  70.63285355 70.73895674 70.76015828 70.88723439 70.92954251\n",
            " 71.07742258 71.14070565 71.26710321 71.39327699 71.4352854  71.58212067\n",
            " 71.68681887 71.89575787 72.         72.02083032 72.0624729  72.08328516\n",
            " 72.18725649 72.27032586 72.33256528 72.39475119 72.51896304 72.58098925\n",
            " 72.64296249 72.74613392 72.8079666  72.99315036 73.01369735 73.13685801\n",
            " 73.25981163 73.30075034 73.32121112 73.50510186 73.54590403 73.62744054\n",
            " 73.66817495 73.72923436 73.74957627 73.91210997 73.99324293 74.05403433\n",
            " 74.11477585 74.27651042 74.35724578 74.47818473 74.53858061 74.63913183\n",
            " 74.71947537 74.83982897 74.93997598 74.95998933 75.         75.01999733\n",
            " 75.07995738 75.17978452 75.31932023 75.35914012 75.43871685 75.47847375\n",
            " 75.49834435 75.71657678 75.97367965 76.072334   76.15116545 76.26925986\n",
            " 76.44605941 76.5049018  76.54410493 76.60287201 76.62245102 76.73982017\n",
            " 76.89603371 76.97402159 77.09085549 77.12976079 77.14920609 77.20751259\n",
            " 77.32399369 77.38216849 77.44029959 77.59510294 77.67238892 77.78817391\n",
            " 77.82673063 77.90378681 78.         78.0192284  78.07688518 78.17288532\n",
            " 78.24960064 78.3070878  78.46018098 78.47929663 78.63205453 78.68926229\n",
            " 78.8225856  78.86063657 78.93668349 79.0506167  79.16438593 79.22120928\n",
            " 79.37253933 79.50471684 79.5424415  79.6178372  79.73079706 79.88116173\n",
            " 79.89993742 79.95623803 79.99374976 80.06872048 80.18104514 80.29321266\n",
            " 80.51707893 80.55432949 80.57294831 80.66597796 80.72174428 80.85171612\n",
            " 80.88881258 81.         81.0185164  81.07404023 81.16649555 81.18497398\n",
            " 81.22191822 81.29575635 81.46164742 81.55366331 81.62720135 81.66394553\n",
            " 81.68231143 81.90238092 81.95730596 82.17663902 82.21313764 82.28608631\n",
            " 82.39538822 82.48636251 82.50454533 82.54089895 82.61355821 82.72242743\n",
            " 82.77680835 82.83115356 82.8673639  82.93973716 83.04817879 83.19254774\n",
            " 83.21057625 83.26463835 83.35466394 83.37265739 83.51646544 83.62415919\n",
            " 83.80334122 83.91066678 84.         84.01785525 84.07139823 84.12490713\n",
            " 84.16056083 84.28523002 84.33860326 84.44524853 84.48076704 84.5517593\n",
            " 84.64041588 84.65813605 84.87048957 84.92349498 85.06468127 85.08231309\n",
            " 85.13518662 85.29361055 85.34635317 85.4341852  85.50438585 85.53946458\n",
            " 85.6095789  85.71464286 85.74963557 85.76712657 85.85452813 86.02906486\n",
            " 86.06392973 86.13361713 86.18584571 86.23804265 86.37708029 86.48121183\n",
            " 86.53323061 86.65448632 86.75828491 86.79285685 86.81013766 86.9655104\n",
            " 87.         87.01723967 87.0689382  87.15503428 87.27542609 87.30979327\n",
            " 87.41281371 87.42997198 87.4814266  87.58424516 87.6184912  87.78952101\n",
            " 87.84076502 87.89197916 87.92610534 88.09653796 88.19863945 88.38551918\n",
            " 88.45337755 88.50423719 88.53812738 88.60586888 88.63972022 88.70738413\n",
            " 88.79189152 88.84255737 89.01123525 89.06177631 89.11228871 89.14594775\n",
            " 89.21322772 89.31405265 89.4483091  89.51536181 89.59910714 89.61584681\n",
            " 89.71621927 89.81647956 89.86656775 90.         90.01666512 90.06664199\n",
            " 90.11659115 90.14987521 90.21640649 90.26627277 90.31611152 90.34932208\n",
            " 90.4157066  90.5151921  90.59801322 90.71383577 90.7964757  90.81299466\n",
            " 90.86253353 90.94503835 91.04394543 91.0604195  91.10982384 91.24143795\n",
            " 91.30717387 91.34002409 91.50409827 91.53687781 91.60240172 91.6515139\n",
            " 91.70059978 91.83136719 91.84770003 91.92932068 91.99456506 92.19002115\n",
            " 92.23882046 92.36882591 92.4175308  92.48243076 92.5796954  92.67685795\n",
            " 92.77391875 92.96773634 93.         93.01612763 93.06449377 93.14504818\n",
            " 93.20944158 93.25770746 93.28987083 93.40235543 93.54677974 93.57884376\n",
            " 93.64293887 93.67496998 93.72299611 93.7869927  93.96275858 94.02659198\n",
            " 94.12226092 94.17005894 94.29740187 94.40868604 94.44045743 94.50396817\n",
            " 94.53570754 94.59915433 94.69424481 94.72592042 94.82088378 94.88413988\n",
            " 94.93155429 94.97894504 95.16827202 95.2470472  95.29428105 95.31002046\n",
            " 95.35722311 95.38867857 95.45155839 95.63994981 95.68698971 95.82797086\n",
            " 95.85927185 95.92184318 96.         96.01562373 96.06247967 96.10931276\n",
            " 96.14052215 96.23408959 96.24967532 96.38983349 96.42095208 96.43650761\n",
            " 96.56086164 96.57639463 96.70056877 96.76259608 96.9484399  96.99484522\n",
            " 97.04122835 97.07213812 97.18024491 97.25739046 97.34988444 97.41149829\n",
            " 97.50384608 97.53460924 97.54998719 97.59610648 97.68827975 97.73433378\n",
            " 97.78036613 97.81104232 97.87236586 97.9642792  98.08669635 98.14784766\n",
            " 98.22423326 98.23950326 98.36157786 98.42255839 98.60527369 98.65089964\n",
            " 98.72689603 98.7724658  98.78765105 98.87871358 98.90904913 99.\n",
            " 99.01515036 99.06058752 99.13626985 99.18165153 99.24212815 99.37806599\n",
            " 99.45350673 99.51381814 99.54396014 99.60421678 99.69453345 99.73966112\n",
            " 99.78476838 99.85990186 99.87492178 99.91996797 99.96499387]\n"
          ]
        }
      ]
    },
    {
      "cell_type": "code",
      "source": [
        "n1=2\n",
        "n2=3\n",
        "n3=4\n",
        "si2=[]\n",
        "si3=[]\n",
        "si4=[]\n",
        "for i in d:\n",
        "  s1= 10*np.log10(((i/R)**n1)/6)\n",
        "  si2.append(s1)\n",
        "  s2= 10*np.log10(((i/R)**n2)/6)\n",
        "  si3.append(s2)\n",
        "  s3= 10*np.log10(((i/R)**n3)/6)\n",
        "  si4.append(s3)\n",
        "plt.plot(d,si2,label='n=2')\n",
        "plt.plot(d,si3,label='n=3')\n",
        "plt.plot(d,si4,label='n=4')\n",
        "plt.title('R=1km')\n",
        "plt.xlabel('Distance D in km');\n",
        "plt.ylabel('SIR dB');\n",
        "plt.legend();\n"
      ],
      "metadata": {
        "colab": {
          "base_uri": "https://localhost:8080/",
          "height": 295
        },
        "id": "zpQVXkO5qRG6",
        "outputId": "76f407b7-141f-4370-e06c-8b346ba64167"
      },
      "execution_count": 81,
      "outputs": [
        {
          "output_type": "display_data",
          "data": {
            "text/plain": [
              "<Figure size 432x288 with 1 Axes>"
            ],
            "image/png": "[encoded data removed]"
          },
          "metadata": {
            "needs_background": "light"
          }
        }
      ]
    },
    {
      "cell_type": "code",
      "source": [],
      "metadata": {
        "id": "hWJWOHRRqTID"
      },
      "execution_count": null,
      "outputs": []
    }
  ]
}